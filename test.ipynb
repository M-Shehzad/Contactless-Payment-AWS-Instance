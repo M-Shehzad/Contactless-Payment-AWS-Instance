{
 "cells": [
  {
   "cell_type": "code",
   "execution_count": 1,
   "metadata": {},
   "outputs": [],
   "source": [
    "import requests\n",
    "import json\n",
    "import numpy as np\n",
    "import cv2"
   ]
  },
  {
   "cell_type": "code",
   "execution_count": 36,
   "metadata": {},
   "outputs": [],
   "source": [
    "imageName = '129_1.JPG'\n",
    "image = cv2.imread(f'../../../IITD Palmprint V1/ROI/Left/{imageName}', 0)"
   ]
  },
  {
   "cell_type": "code",
   "execution_count": 37,
   "metadata": {},
   "outputs": [
    {
     "data": {
      "text/plain": [
       "(150, 150)"
      ]
     },
     "execution_count": 37,
     "metadata": {},
     "output_type": "execute_result"
    }
   ],
   "source": [
    "image.shape"
   ]
  },
  {
   "cell_type": "code",
   "execution_count": 38,
   "metadata": {},
   "outputs": [],
   "source": [
    "image = image.reshape(-1,150,150,1)"
   ]
  },
  {
   "cell_type": "code",
   "execution_count": 20,
   "metadata": {},
   "outputs": [],
   "source": [
    "# url = 'http://ec2-35-154-201-46.ap-south-1.compute.amazonaws.com:5000/predict'\n",
    "# url = 'http://localhost:8888/predict'\n",
    "url = 'http://127.0.0.1:8888/predict'"
   ]
  },
  {
   "cell_type": "code",
   "execution_count": 21,
   "metadata": {},
   "outputs": [],
   "source": [
    "data = json.dumps({'image': image.tolist(), 'imageName': imageName})\n",
    "headers = {'content-type': 'application/json'}\n",
    "r = requests.post(url, data=data, headers=headers)"
   ]
  },
  {
   "cell_type": "code",
   "execution_count": 13,
   "metadata": {},
   "outputs": [
    {
     "data": {
      "text/plain": [
       "'{\"prediction\": [[451.2624816894531, 0.0, 230.53895568847656, 266.3045349121094, 0.0, 0.0, 502.9877624511719, 0.0, 0.0, 454.97625732421875, 610.9736328125, 0.0, 122.42227172851562, 481.5813293457031, 0.0, 0.0, 0.0, 85.38077545166016, 584.0718994140625, 0.0, 0.0, 0.0, 0.0, 0.0, 407.8425598144531, 0.0, 130.6904296875, 90.87406921386719, 314.3177185058594, 317.6719970703125, 719.599609375, 0.0]], \"DBstatus\": true}'"
      ]
     },
     "execution_count": 13,
     "metadata": {},
     "output_type": "execute_result"
    }
   ],
   "source": [
    "r.text"
   ]
  },
  {
   "cell_type": "code",
   "execution_count": 48,
   "metadata": {},
   "outputs": [],
   "source": [
    "imageName = '129_5.JPG'\n",
    "image = cv2.imread(f'../../../IITD Palmprint V1/ROI/Left/{imageName}', 0)\n",
    "image = image.reshape(-1,150,150,1)\n",
    "\n",
    "\n",
    "url = 'http://127.0.0.1:8888/match'\n",
    "data = json.dumps({'image': image.tolist(), 'imageName': imageName})\n",
    "headers = {'content-type': 'application/json'}\n",
    "r = requests.post(url, data=data, headers=headers)"
   ]
  },
  {
   "cell_type": "code",
   "execution_count": 49,
   "metadata": {},
   "outputs": [
    {
     "data": {
      "text/plain": [
       "'{\"difference\": [259.75207338523325, 390.1968618383681]}'"
      ]
     },
     "execution_count": 49,
     "metadata": {},
     "output_type": "execute_result"
    }
   ],
   "source": [
    "r.text"
   ]
  },
  {
   "cell_type": "code",
   "execution_count": null,
   "metadata": {},
   "outputs": [],
   "source": []
  }
 ],
 "metadata": {
  "kernelspec": {
   "display_name": "palm",
   "language": "python",
   "name": "python3"
  },
  "language_info": {
   "codemirror_mode": {
    "name": "ipython",
    "version": 3
   },
   "file_extension": ".py",
   "mimetype": "text/x-python",
   "name": "python",
   "nbconvert_exporter": "python",
   "pygments_lexer": "ipython3",
   "version": "3.9.16"
  },
  "orig_nbformat": 4
 },
 "nbformat": 4,
 "nbformat_minor": 2
}
